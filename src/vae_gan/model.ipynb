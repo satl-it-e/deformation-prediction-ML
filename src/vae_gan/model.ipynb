{
 "cells": [
  {
   "cell_type": "code",
   "execution_count": 54,
   "metadata": {},
   "outputs": [],
   "source": [
    "from tensorflow.keras.models import Model, Sequential\n",
    "from tensorflow.keras.layers import Input, Dense, MaxPooling3D, Dropout, Flatten, concatenate, Reshape, UpSampling3D, Lambda, Conv3D, Conv3DTranspose\n",
    "from tensorflow.keras.layers import BatchNormalization\n",
    "import tensorflow as tf"
   ]
  },
  {
   "cell_type": "code",
   "execution_count": 55,
   "metadata": {},
   "outputs": [],
   "source": [
    "voxel_grid_input = Input(shape=(600, 100, 100, 1), dtype='float32')  # (batch/None, depth, height, width, channels)\n",
    "cond_vec_input = Input(shape=(4,1), dtype='float32')"
   ]
  },
  {
   "cell_type": "code",
   "execution_count": 56,
   "metadata": {},
   "outputs": [],
   "source": [
    "enc_model = Sequential()\n",
    "\n",
    "enc_model.add(Conv3D(16, (3, 3, 3), strides=(2, 2, 2), activation='relu'))\n",
    "enc_model.add(MaxPooling3D(pool_size=(2, 2, 2)))\n",
    "enc_model.add(BatchNormalization(center=True, scale=True))\n",
    "enc_model.add(Dropout(0.5))\n",
    "\n",
    "enc_model.add(Conv3D(8, (3, 3, 3), strides=(2, 2, 2), activation='relu'))\n",
    "enc_model.add(MaxPooling3D(pool_size=(2, 2, 2)))\n",
    "enc_model.add(BatchNormalization(center=True, scale=True))\n",
    "enc_model.add(Dropout(0.5))\n",
    "\n",
    "enc_model.add(Conv3D(8, (3, 3, 3), strides=(2, 2, 2), activation='sigmoid'))\n",
    "enc_model.add(MaxPooling3D(pool_size=(2, 2, 2)))\n",
    "enc_model.add(BatchNormalization(center=True, scale=True))\n",
    "enc_model.add(Dropout(0.5))\n",
    "\n",
    "enc_model.add(Flatten())\n",
    "\n",
    "enc_model.add(Dense(8, activation='relu'))\n",
    "\n",
    "encoded_box = enc_model(voxel_grid_input)\n"
   ]
  },
  {
   "cell_type": "code",
   "execution_count": 63,
   "metadata": {},
   "outputs": [
    {
     "name": "stdout",
     "output_type": "stream",
     "text": [
      "<dtype: 'float32'> <dtype: 'float32'>\n",
      "<dtype: 'float32'>\n"
     ]
    }
   ],
   "source": [
    "deformed_box_repr = concatenate([encoded_box, tf.squeeze(cond_vec_input, axis=-1)], axis=-1)"
   ]
  },
  {
   "cell_type": "code",
   "execution_count": 58,
   "metadata": {},
   "outputs": [],
   "source": [
    "deformed_box_vec_input = Input(shape=(deformed_box_repr.shape[-1], ), dtype='float32')\n",
    "\n",
    "dec_model = Sequential()\n",
    "\n",
    "dec_model.add(Dense(2*2*3*1*1, activation='relu'))\n",
    "dec_model.add(Reshape((2,2,3,1)))\n",
    "\n",
    "dec_model.add(Conv3DTranspose(16, (3, 3, 3), strides=(2, 2, 2), activation='relu'))\n",
    "dec_model.add(UpSampling3D())\n",
    "dec_model.add(Conv3DTranspose(8, (3, 3, 3), strides=(2, 2, 2), activation='relu'))\n",
    "dec_model.add(UpSampling3D())\n",
    "dec_model.add(Conv3DTranspose(8, (3, 3, 3), strides=(2, 2, 2), activation='sigmoid'))\n",
    "dec_model.add(UpSampling3D())\n",
    "dec_model.add(Conv3DTranspose(8, (3, 3, 3), strides=(2, 2, 2), activation='sigmoid'))\n",
    "dec_model.add(UpSampling3D(size=(2, 1, 1)))\n",
    "dec_model.add(Reshape((600, 100, 100)))\n",
    "\n",
    "decoded_deformed_box = dec_model(deformed_box_repr)"
   ]
  },
  {
   "cell_type": "markdown",
   "metadata": {
    "colab_type": "text",
    "id": "E5PJH6Xewni2"
   },
   "source": [
    "### Finally, combine everything into a single VAE model."
   ]
  },
  {
   "cell_type": "code",
   "execution_count": 59,
   "metadata": {},
   "outputs": [],
   "source": [
    "vae_model = Model(inputs=[voxel_grid_input, cond_vec_input], outputs=decoded_deformed_box)"
   ]
  },
  {
   "cell_type": "markdown",
   "metadata": {
    "colab_type": "text",
    "id": "Ede4b-eGGhLl"
   },
   "source": [
    "VAE model is built. Now we need to define a way to evaluate its performace and enable it to learn. "
   ]
  },
  {
   "cell_type": "code",
   "execution_count": 60,
   "metadata": {},
   "outputs": [],
   "source": [
    "ground_truth_voxel_grid = Input(shape=(600, 100, 100, 1))\n",
    "\n",
    "discr_model = Sequential()\n",
    "\n",
    "discr_model.add(Conv3D(16, (3, 3, 3), strides=(2, 2, 2), activation='relu')) \n",
    "discr_model.add(MaxPooling3D(pool_size=(2, 2, 2)))\n",
    "discr_model.add(BatchNormalization(center=True, scale=True))\n",
    "discr_model.add(Dropout(0.5))\n",
    "\n",
    "discr_model.add(Conv3D(8, (3, 3, 3), strides=(2, 2, 2), activation='relu'))\n",
    "discr_model.add(MaxPooling3D(pool_size=(2, 2, 2)))\n",
    "discr_model.add(BatchNormalization(center=True, scale=True))\n",
    "discr_model.add(Dropout(0.5))\n",
    "\n",
    "discr_model.add(Conv3D(8, (3, 3, 3), strides=(2, 2, 2), activation='sigmoid'))\n",
    "discr_model.add(MaxPooling3D(pool_size=(2, 2, 2)))\n",
    "discr_model.add(BatchNormalization(center=True, scale=True))\n",
    "discr_model.add(Dropout(0.5))\n",
    "\n",
    "discr_model.add(Flatten())\n",
    "discr_model.add(Dense(1))\n",
    "\n",
    "discr_output = discr_model(ground_truth_voxel_grid)\n",
    "\n",
    "# Need to make our model of class tf...training.Model in order to use Checkpoint later (because the model class must inherit from a Trackable base).\n",
    "discriminator_model = Model(inputs=[ground_truth_voxel_grid], outputs=discr_output)"
   ]
  },
  {
   "cell_type": "code",
   "execution_count": null,
   "outputs": [],
   "source": [
    "DBG = True\n",
    "if DBG:\n",
    "    print(enc_model.summary(), '\\n\\n')\n",
    "\n",
    "    print(discriminator_model.summary(), '\\n\\n')\n",
    "\n",
    "    print(dec_model.summary(), '\\n\\n')\n",
    "\n",
    "    print(vae_model.summary())"
   ],
   "metadata": {
    "collapsed": false,
    "pycharm": {
     "name": "#%%\n"
    }
   }
  },
  {
   "cell_type": "code",
   "execution_count": 61,
   "metadata": {},
   "outputs": [
    {
     "name": "stdout",
     "output_type": "stream",
     "text": [
      "Model: \"sequential_16\"\n",
      "_________________________________________________________________\n",
      "Layer (type)                 Output Shape              Param #   \n",
      "=================================================================\n",
      "conv3d_36 (Conv3D)           (None, 299, 49, 49, 16)   448       \n",
      "_________________________________________________________________\n",
      "max_pooling3d_36 (MaxPooling (None, 149, 24, 24, 16)   0         \n",
      "_________________________________________________________________\n",
      "batch_normalization_36 (Batc (None, 149, 24, 24, 16)   64        \n",
      "_________________________________________________________________\n",
      "dropout_36 (Dropout)         (None, 149, 24, 24, 16)   0         \n",
      "_________________________________________________________________\n",
      "conv3d_37 (Conv3D)           (None, 74, 11, 11, 8)     3464      \n",
      "_________________________________________________________________\n",
      "max_pooling3d_37 (MaxPooling (None, 37, 5, 5, 8)       0         \n",
      "_________________________________________________________________\n",
      "batch_normalization_37 (Batc (None, 37, 5, 5, 8)       32        \n",
      "_________________________________________________________________\n",
      "dropout_37 (Dropout)         (None, 37, 5, 5, 8)       0         \n",
      "_________________________________________________________________\n",
      "conv3d_38 (Conv3D)           (None, 18, 2, 2, 8)       1736      \n",
      "_________________________________________________________________\n",
      "max_pooling3d_38 (MaxPooling (None, 9, 1, 1, 8)        0         \n",
      "_________________________________________________________________\n",
      "batch_normalization_38 (Batc (None, 9, 1, 1, 8)        32        \n",
      "_________________________________________________________________\n",
      "dropout_38 (Dropout)         (None, 9, 1, 1, 8)        0         \n",
      "_________________________________________________________________\n",
      "flatten_12 (Flatten)         (None, 72)                0         \n",
      "_________________________________________________________________\n",
      "dense_16 (Dense)             (None, 8)                 584       \n",
      "=================================================================\n",
      "Total params: 6,360\n",
      "Trainable params: 6,296\n",
      "Non-trainable params: 64\n",
      "_________________________________________________________________\n",
      "None \n",
      "\n",
      "\n",
      "Model: \"model_9\"\n",
      "_________________________________________________________________\n",
      "Layer (type)                 Output Shape              Param #   \n",
      "=================================================================\n",
      "input_29 (InputLayer)        [(None, 600, 100, 100, 1) 0         \n",
      "_________________________________________________________________\n",
      "sequential_18 (Sequential)   (None, 1)                 5849      \n",
      "=================================================================\n",
      "Total params: 5,849\n",
      "Trainable params: 5,785\n",
      "Non-trainable params: 64\n",
      "_________________________________________________________________\n",
      "None \n",
      "\n",
      "\n",
      "Model: \"sequential_17\"\n",
      "_________________________________________________________________\n",
      "Layer (type)                 Output Shape              Param #   \n",
      "=================================================================\n",
      "dense_17 (Dense)             (None, 12)                156       \n",
      "_________________________________________________________________\n",
      "reshape_8 (Reshape)          (None, 2, 2, 3, 1)        0         \n",
      "_________________________________________________________________\n",
      "conv3d_transpose_16 (Conv3DT (None, 5, 5, 7, 16)       448       \n",
      "_________________________________________________________________\n",
      "up_sampling3d_14 (UpSampling (None, 10, 10, 14, 16)    0         \n",
      "_________________________________________________________________\n",
      "conv3d_transpose_17 (Conv3DT (None, 21, 21, 29, 8)     3464      \n",
      "_________________________________________________________________\n",
      "up_sampling3d_15 (UpSampling (None, 42, 42, 58, 8)     0         \n",
      "_________________________________________________________________\n",
      "conv3d_transpose_18 (Conv3DT (None, 85, 85, 117, 8)    1736      \n",
      "_________________________________________________________________\n",
      "up_sampling3d_16 (UpSampling (None, 170, 170, 234, 8)  0         \n",
      "_________________________________________________________________\n",
      "conv3d_transpose_19 (Conv3DT (None, 341, 341, 469, 8)  1736      \n",
      "_________________________________________________________________\n",
      "up_sampling3d_17 (UpSampling (None, 682, 341, 469, 8)  0         \n",
      "_________________________________________________________________\n",
      "reshape_9 (Reshape)          (None, 600, 100, 100)     0         \n",
      "=================================================================\n",
      "Total params: 7,540\n",
      "Trainable params: 7,540\n",
      "Non-trainable params: 0\n",
      "_________________________________________________________________\n",
      "None \n",
      "\n",
      "\n",
      "Model: \"model_8\"\n",
      "__________________________________________________________________________________________________\n",
      "Layer (type)                    Output Shape         Param #     Connected to                     \n",
      "==================================================================================================\n",
      "input_26 (InputLayer)           [(None, 600, 100, 10 0                                            \n",
      "__________________________________________________________________________________________________\n",
      "input_27 (InputLayer)           [(None, 4, 1)]       0                                            \n",
      "__________________________________________________________________________________________________\n",
      "sequential_16 (Sequential)      (None, 8)            6360        input_26[0][0]                   \n",
      "__________________________________________________________________________________________________\n",
      "tf_op_layer_Squeeze_4 (TensorFl [(None, 4)]          0           input_27[0][0]                   \n",
      "__________________________________________________________________________________________________\n",
      "concatenate_7 (Concatenate)     (None, 12)           0           sequential_16[0][0]              \n",
      "                                                                 tf_op_layer_Squeeze_4[0][0]      \n",
      "__________________________________________________________________________________________________\n",
      "sequential_17 (Sequential)      (None, 600, 100, 100 7540        concatenate_7[0][0]              \n",
      "==================================================================================================\n",
      "Total params: 13,900\n",
      "Trainable params: 13,836\n",
      "Non-trainable params: 64\n",
      "__________________________________________________________________________________________________\n",
      "None\n"
     ]
    }
   ],
   "source": [
    "DBG = True\n",
    "if DBG:\n",
    "    print(enc_model.summary(), '\\n\\n')\n",
    "\n",
    "    print(discriminator_model.summary(), '\\n\\n')\n",
    "\n",
    "    print(dec_model.summary(), '\\n\\n')\n",
    "\n",
    "    print(vae_model.summary())"
   ]
  }
 ],
 "metadata": {
  "kernelspec": {
   "display_name": "Python 3",
   "language": "python",
   "name": "python3"
  },
  "language_info": {
   "codemirror_mode": {
    "name": "ipython",
    "version": 3
   },
   "file_extension": ".py",
   "mimetype": "text/x-python",
   "name": "python",
   "nbconvert_exporter": "python",
   "pygments_lexer": "ipython3",
   "version": "3.7.3"
  }
 },
 "nbformat": 4,
 "nbformat_minor": 4
}